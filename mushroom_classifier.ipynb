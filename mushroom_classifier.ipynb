{
 "cells": [
  {
   "cell_type": "markdown",
   "id": "64dcbb6e",
   "metadata": {},
   "source": [
    "## Mushroom Classifier\n",
    "Dennis Mott\n",
    "<br>\n",
    "April 2024"
   ]
  },
  {
   "cell_type": "markdown",
   "id": "8123fea7",
   "metadata": {},
   "source": [
    "## Overview"
   ]
  },
  {
   "cell_type": "markdown",
   "id": "3c09c2fa",
   "metadata": {},
   "source": [
    "This notebook utilizes the mushroom dataset from The Audubon Society Field Guide to North American Mushrooms. The goal of this notebook is to display how a KNN Classifer can impute missing values and the importance of dimensionality reduction using PCA. Two simple models (Random Forest Classifier, Logisitc Regression) were trained and used to make predictions on whether a mushroom is edible or poisonous based on the attributes below. The models were trained with and without PCA dimensionality reduction to compare. The performance measures: accuracy, precision, recall, training time were used to compare the effect of PCA on the models. "
   ]
  },
  {
   "cell_type": "markdown",
   "id": "d5137e89",
   "metadata": {},
   "source": [
    "## Attributes\n",
    "\n",
    "1. `cap_shape`:                bell=b,conical=c,convex=x,flat=f,                                knobbed=k,sunken=s\n",
    "2. `cap_surface`:              fibrous=f,grooves=g,scaly=y,smooth=s\n",
    "3. `cap_color`:                brown=n,buff=b,cinnamon=c,gray=g,green=r,                                pink=p,purple=u,red=e,white=w,yellow=y\n",
    "4. `bruises`:                 bruises=t,no=f\n",
    "5. `odor`:                     almond=a,anise=l,creosote=c,fishy=y,foul=f,                             musty=m,none=n,pungent=p,spicy=s\n",
    "6. `gill_attachment`:          attached=a,descending=d,free=f,notched=n\n",
    "7. `gill_spacing`:             close=c,crowded=w,distant=d\n",
    "8. `gill_size`:                broad=b,narrow=n\n",
    "9. `gill_color`:               black=k,brown=n,buff=b,chocolate=h,gray=g,                           green=r,orange=o,pink=p,purple=u,red=e,white=w,yellow=y\n",
    "10. `stalk_shape`:              enlarging=e,tapering=t\n",
    "11. `stalk_root`:               bulbous=b,club=c,cup=u,equal=e,                                  rhizomorphs=z,rooted=r,missing=?\n",
    "12. `stalk_surface_above_ring`: fibrous=f,scaly=y,silky=k,smooth=s\n",
    "13. `stalk_surface_below_ring`: fibrous=f,scaly=y,silky=k,smooth=s\n",
    "14. `stalk_color_above_ring`:   brown=n,buff=b,cinnamon=c,gray=g,orange=o,                              pink=p,red=e,white=w,yellow=y\n",
    "15. `stalk_color_below_ring`:   brown=n,buff=b,cinnamon=c,gray=g,orange=o,                              pink=p,red=e,white=w,yellow=y\n",
    "16. `veil_type`:                partial=p,universal=u\n",
    "17. `veil_color`:               brown=n,orange=o,white=w,yellow=y\n",
    "18. `ring_number`:              none=n,one=o,two=t\n",
    "19. `ring_type`:                cobwebby=c,evanescent=e,flaring=f,large=l,                             none=n,pendant=p,sheathing=s,zone=z\n",
    "20. `spore_print_color`:        black=k,brown=n,buff=b,chocolate=h,green=r,                            orange=o,purple=u,white=w,yellow=y\n",
    "21. `population`:               abundant=a,clustered=c,numerous=n,                                 scattered=s,several=v,solitary=y\n",
    "22. `habitat`:                  grasses=g,leaves=l,meadows=m,paths=p,                                  urban=u,waste=w,woods=d\n",
    "\n",
    "### Target Variable\n",
    "`edible_poisonous`: edible=e, poisonous=p"
   ]
  },
  {
   "cell_type": "markdown",
   "id": "ab6ed06a",
   "metadata": {},
   "source": [
    "## Explore Data and Prep for ML Models"
   ]
  },
  {
   "cell_type": "code",
   "execution_count": 1,
   "id": "52575953",
   "metadata": {},
   "outputs": [],
   "source": [
    "# standard imports\n",
    "import numpy as np\n",
    "import pandas as pd"
   ]
  },
  {
   "cell_type": "code",
   "execution_count": 2,
   "id": "193ced25",
   "metadata": {},
   "outputs": [],
   "source": [
    "# define column names from 'agaricus-lepiota.names' file\n",
    "col_names = ['edible_poisonous',\n",
    "            'cap_shape',\n",
    "            'cap_surface',\n",
    "            'cap_color',\n",
    "            'bruises',\n",
    "            'odor',\n",
    "            'gill_attachment',\n",
    "            'gill_spacing',\n",
    "            'gill_size',\n",
    "            'gill_color',\n",
    "            'stalk_shape',\n",
    "            'stalk_root',\n",
    "            'stalk_surface_above_ring',\n",
    "            'stalk_surface_below_ring',\n",
    "            'stalk_color_above_ring',\n",
    "            'stalk_color_below_ring',\n",
    "            'veil_type',\n",
    "            'veil_color',\n",
    "            'ring_number',\n",
    "            'ring_type',\n",
    "            'spore_print_color',\n",
    "            'population',\n",
    "            'habitat']"
   ]
  },
  {
   "cell_type": "code",
   "execution_count": 3,
   "id": "deae87ed",
   "metadata": {},
   "outputs": [
    {
     "data": {
      "text/html": [
       "<div>\n",
       "<style scoped>\n",
       "    .dataframe tbody tr th:only-of-type {\n",
       "        vertical-align: middle;\n",
       "    }\n",
       "\n",
       "    .dataframe tbody tr th {\n",
       "        vertical-align: top;\n",
       "    }\n",
       "\n",
       "    .dataframe thead th {\n",
       "        text-align: right;\n",
       "    }\n",
       "</style>\n",
       "<table border=\"1\" class=\"dataframe\">\n",
       "  <thead>\n",
       "    <tr style=\"text-align: right;\">\n",
       "      <th></th>\n",
       "      <th>edible_poisonous</th>\n",
       "      <th>cap_shape</th>\n",
       "      <th>cap_surface</th>\n",
       "      <th>cap_color</th>\n",
       "      <th>bruises</th>\n",
       "      <th>odor</th>\n",
       "      <th>gill_attachment</th>\n",
       "      <th>gill_spacing</th>\n",
       "      <th>gill_size</th>\n",
       "      <th>gill_color</th>\n",
       "      <th>...</th>\n",
       "      <th>stalk_surface_below_ring</th>\n",
       "      <th>stalk_color_above_ring</th>\n",
       "      <th>stalk_color_below_ring</th>\n",
       "      <th>veil_type</th>\n",
       "      <th>veil_color</th>\n",
       "      <th>ring_number</th>\n",
       "      <th>ring_type</th>\n",
       "      <th>spore_print_color</th>\n",
       "      <th>population</th>\n",
       "      <th>habitat</th>\n",
       "    </tr>\n",
       "  </thead>\n",
       "  <tbody>\n",
       "    <tr>\n",
       "      <th>0</th>\n",
       "      <td>p</td>\n",
       "      <td>x</td>\n",
       "      <td>s</td>\n",
       "      <td>n</td>\n",
       "      <td>t</td>\n",
       "      <td>p</td>\n",
       "      <td>f</td>\n",
       "      <td>c</td>\n",
       "      <td>n</td>\n",
       "      <td>k</td>\n",
       "      <td>...</td>\n",
       "      <td>s</td>\n",
       "      <td>w</td>\n",
       "      <td>w</td>\n",
       "      <td>p</td>\n",
       "      <td>w</td>\n",
       "      <td>o</td>\n",
       "      <td>p</td>\n",
       "      <td>k</td>\n",
       "      <td>s</td>\n",
       "      <td>u</td>\n",
       "    </tr>\n",
       "    <tr>\n",
       "      <th>1</th>\n",
       "      <td>e</td>\n",
       "      <td>x</td>\n",
       "      <td>s</td>\n",
       "      <td>y</td>\n",
       "      <td>t</td>\n",
       "      <td>a</td>\n",
       "      <td>f</td>\n",
       "      <td>c</td>\n",
       "      <td>b</td>\n",
       "      <td>k</td>\n",
       "      <td>...</td>\n",
       "      <td>s</td>\n",
       "      <td>w</td>\n",
       "      <td>w</td>\n",
       "      <td>p</td>\n",
       "      <td>w</td>\n",
       "      <td>o</td>\n",
       "      <td>p</td>\n",
       "      <td>n</td>\n",
       "      <td>n</td>\n",
       "      <td>g</td>\n",
       "    </tr>\n",
       "    <tr>\n",
       "      <th>2</th>\n",
       "      <td>e</td>\n",
       "      <td>b</td>\n",
       "      <td>s</td>\n",
       "      <td>w</td>\n",
       "      <td>t</td>\n",
       "      <td>l</td>\n",
       "      <td>f</td>\n",
       "      <td>c</td>\n",
       "      <td>b</td>\n",
       "      <td>n</td>\n",
       "      <td>...</td>\n",
       "      <td>s</td>\n",
       "      <td>w</td>\n",
       "      <td>w</td>\n",
       "      <td>p</td>\n",
       "      <td>w</td>\n",
       "      <td>o</td>\n",
       "      <td>p</td>\n",
       "      <td>n</td>\n",
       "      <td>n</td>\n",
       "      <td>m</td>\n",
       "    </tr>\n",
       "    <tr>\n",
       "      <th>3</th>\n",
       "      <td>p</td>\n",
       "      <td>x</td>\n",
       "      <td>y</td>\n",
       "      <td>w</td>\n",
       "      <td>t</td>\n",
       "      <td>p</td>\n",
       "      <td>f</td>\n",
       "      <td>c</td>\n",
       "      <td>n</td>\n",
       "      <td>n</td>\n",
       "      <td>...</td>\n",
       "      <td>s</td>\n",
       "      <td>w</td>\n",
       "      <td>w</td>\n",
       "      <td>p</td>\n",
       "      <td>w</td>\n",
       "      <td>o</td>\n",
       "      <td>p</td>\n",
       "      <td>k</td>\n",
       "      <td>s</td>\n",
       "      <td>u</td>\n",
       "    </tr>\n",
       "    <tr>\n",
       "      <th>4</th>\n",
       "      <td>e</td>\n",
       "      <td>x</td>\n",
       "      <td>s</td>\n",
       "      <td>g</td>\n",
       "      <td>f</td>\n",
       "      <td>n</td>\n",
       "      <td>f</td>\n",
       "      <td>w</td>\n",
       "      <td>b</td>\n",
       "      <td>k</td>\n",
       "      <td>...</td>\n",
       "      <td>s</td>\n",
       "      <td>w</td>\n",
       "      <td>w</td>\n",
       "      <td>p</td>\n",
       "      <td>w</td>\n",
       "      <td>o</td>\n",
       "      <td>e</td>\n",
       "      <td>n</td>\n",
       "      <td>a</td>\n",
       "      <td>g</td>\n",
       "    </tr>\n",
       "  </tbody>\n",
       "</table>\n",
       "<p>5 rows × 23 columns</p>\n",
       "</div>"
      ],
      "text/plain": [
       "  edible_poisonous cap_shape cap_surface cap_color bruises odor  \\\n",
       "0                p         x           s         n       t    p   \n",
       "1                e         x           s         y       t    a   \n",
       "2                e         b           s         w       t    l   \n",
       "3                p         x           y         w       t    p   \n",
       "4                e         x           s         g       f    n   \n",
       "\n",
       "  gill_attachment gill_spacing gill_size gill_color  ...  \\\n",
       "0               f            c         n          k  ...   \n",
       "1               f            c         b          k  ...   \n",
       "2               f            c         b          n  ...   \n",
       "3               f            c         n          n  ...   \n",
       "4               f            w         b          k  ...   \n",
       "\n",
       "  stalk_surface_below_ring stalk_color_above_ring stalk_color_below_ring  \\\n",
       "0                        s                      w                      w   \n",
       "1                        s                      w                      w   \n",
       "2                        s                      w                      w   \n",
       "3                        s                      w                      w   \n",
       "4                        s                      w                      w   \n",
       "\n",
       "  veil_type veil_color ring_number ring_type spore_print_color population  \\\n",
       "0         p          w           o         p                 k          s   \n",
       "1         p          w           o         p                 n          n   \n",
       "2         p          w           o         p                 n          n   \n",
       "3         p          w           o         p                 k          s   \n",
       "4         p          w           o         e                 n          a   \n",
       "\n",
       "  habitat  \n",
       "0       u  \n",
       "1       g  \n",
       "2       m  \n",
       "3       u  \n",
       "4       g  \n",
       "\n",
       "[5 rows x 23 columns]"
      ]
     },
     "execution_count": 3,
     "metadata": {},
     "output_type": "execute_result"
    }
   ],
   "source": [
    "# import data\n",
    "mushrooms =  pd.read_csv('data/agaricus-lepiota.data', sep=',', names=col_names, index_col=False)\n",
    "\n",
    "# view first 5 rows of mushrooms data set\n",
    "mushrooms.head(5)"
   ]
  },
  {
   "cell_type": "markdown",
   "id": "9099effe",
   "metadata": {},
   "source": [
    "The data is entrirely categorical and the `stalk_root` column is the only column with missing values. The missing values are labeled as '?'. These values will be replaced with NaN to make it easier to identify and replace."
   ]
  },
  {
   "cell_type": "code",
   "execution_count": 4,
   "id": "3c7deab3",
   "metadata": {},
   "outputs": [
    {
     "data": {
      "text/plain": [
       "b    3776\n",
       "?    2480\n",
       "e    1120\n",
       "c     556\n",
       "r     192\n",
       "Name: stalk_root, dtype: int64"
      ]
     },
     "execution_count": 4,
     "metadata": {},
     "output_type": "execute_result"
    }
   ],
   "source": [
    "# view missing data in 'stalk_root' column\n",
    "mushrooms.iloc[:,11].value_counts(dropna=False)"
   ]
  },
  {
   "cell_type": "code",
   "execution_count": 5,
   "id": "6b39a2b2",
   "metadata": {},
   "outputs": [
    {
     "data": {
      "text/plain": [
       "b      3776\n",
       "NaN    2480\n",
       "e      1120\n",
       "c       556\n",
       "r       192\n",
       "Name: stalk_root, dtype: int64"
      ]
     },
     "execution_count": 5,
     "metadata": {},
     "output_type": "execute_result"
    }
   ],
   "source": [
    "# replace '?' with NaN and verify\n",
    "mushrooms['stalk_root'].replace(to_replace='?', value=np.nan, inplace=True)\n",
    "mushrooms.iloc[:,11].value_counts(dropna=False)"
   ]
  },
  {
   "cell_type": "markdown",
   "id": "d28d1bb7",
   "metadata": {},
   "source": [
    "## Replace Missing Values with KNN Classifier"
   ]
  },
  {
   "cell_type": "markdown",
   "id": "e0f5ecac",
   "metadata": {},
   "source": [
    "`stalk_root` is the only column with missing data. A KNN classifier will be used to predict these missing values. The default settings are used which means the number of nearest neighbors is n=5 and the distance metric is 'minkoski' with p=2 which is the same as the euclidean distance.  The predicted values will then be used to replace the missing values in the mushrooms data set. Before applying KNN, all columns will be one-hot encoded with the exception of the `stalk_root` column which will be label encoded."
   ]
  },
  {
   "cell_type": "code",
   "execution_count": 6,
   "id": "62d09d17",
   "metadata": {},
   "outputs": [],
   "source": [
    "# create copy of dataframe\n",
    "mushrooms_copy = mushrooms.copy()\n",
    "\n",
    "# get indices of NaN values\n",
    "indices_missing = np.where(mushrooms_copy['stalk_root'].isnull())[0]\n",
    "indices_not_missing = np.where(mushrooms_copy['stalk_root'].notnull())[0]"
   ]
  },
  {
   "cell_type": "code",
   "execution_count": 7,
   "id": "d75af3e6",
   "metadata": {
    "scrolled": false
   },
   "outputs": [],
   "source": [
    "# create training and test data sets\n",
    "X_train = mushrooms_copy.iloc[indices_not_missing].drop(['stalk_root'], axis=1)\n",
    "X_test = mushrooms_copy.iloc[indices_missing].drop(['stalk_root'], axis=1)\n",
    "\n",
    "y_train = mushrooms_copy['stalk_root'].iloc[indices_not_missing]\n",
    "y_test = mushrooms_copy['stalk_root'].iloc[indices_missing]"
   ]
  },
  {
   "cell_type": "markdown",
   "id": "f824b4c2",
   "metadata": {},
   "source": [
    "As seen below, the features are one-hot encoded and the response variable is label encoded before using the KNN classifier. This converts the categorical attributes to integers and is important for the KNN classifier and the ML models they will be fed into later on. The response data is label encoded so that it remains a multi-class variable. If the response variable was one-hot encoded, it would turn into a multi-label response variable where multiple KNN's could be created and combined to make a prediction. There could be ties where multiple `stalk_root` classes could be predicted for a single set of attributes so in the end it is better to label encode to keep a single column response variable."
   ]
  },
  {
   "cell_type": "code",
   "execution_count": 8,
   "id": "aa73fbb9",
   "metadata": {},
   "outputs": [],
   "source": [
    "from sklearn.preprocessing import OneHotEncoder, LabelEncoder\n",
    "\n",
    "# one-hot encode feature variables\n",
    "cat_encoder = OneHotEncoder()\n",
    "cat_encoder.fit(mushrooms_copy.drop(['stalk_root'], axis=1))\n",
    "X_train_encode = cat_encoder.transform(X_train)\n",
    "X_test_encode = cat_encoder.transform(X_test)\n",
    "\n",
    "# label encode response variable\n",
    "lab_encoder = LabelEncoder()\n",
    "lab_encoder.fit(y_train)\n",
    "y_train_encode = lab_encoder.transform(y_train)"
   ]
  },
  {
   "cell_type": "code",
   "execution_count": 9,
   "id": "a4fedea1",
   "metadata": {},
   "outputs": [
    {
     "name": "stderr",
     "output_type": "stream",
     "text": [
      "C:\\Users\\denni\\Anaconda3\\lib\\site-packages\\sklearn\\neighbors\\_classification.py:228: FutureWarning: Unlike other reduction functions (e.g. `skew`, `kurtosis`), the default behavior of `mode` typically preserves the axis it acts along. In SciPy 1.11.0, this behavior will change: the default value of `keepdims` will become False, the `axis` over which the statistic is taken will be eliminated, and the value None will no longer be accepted. Set `keepdims` to True or False to avoid this warning.\n",
      "  mode, _ = stats.mode(_y[neigh_ind, k], axis=1)\n"
     ]
    },
    {
     "data": {
      "text/plain": [
       "array([0, 0, 2, ..., 2, 0, 2])"
      ]
     },
     "execution_count": 9,
     "metadata": {},
     "output_type": "execute_result"
    }
   ],
   "source": [
    "from sklearn.neighbors import KNeighborsClassifier\n",
    "\n",
    "# instantiate KNN classifier with default settings\n",
    "knn = KNeighborsClassifier(n_neighbors = 5,\n",
    "                           p = 2, # euclidean distance\n",
    "                           metric = 'minkowski'\n",
    "                          )\n",
    "\n",
    "knn.fit(X_train_encode, y_train_encode)\n",
    "y_predict = knn.predict(X_test_encode)\n",
    "y_predict"
   ]
  },
  {
   "cell_type": "code",
   "execution_count": 10,
   "id": "5f405c5a",
   "metadata": {},
   "outputs": [
    {
     "name": "stdout",
     "output_type": "stream",
     "text": [
      "[['b' 1891]\n",
      " ['c' 65]\n",
      " ['e' 524]]\n"
     ]
    }
   ],
   "source": [
    "# missing values predicted by KNN classifier\n",
    "missing_values = lab_encoder.inverse_transform(y_predict)\n",
    "unique, counts = np.unique(missing_values, return_counts=True)\n",
    "print(np.asarray((unique, counts)).T)"
   ]
  },
  {
   "cell_type": "code",
   "execution_count": 11,
   "id": "08f550ae",
   "metadata": {},
   "outputs": [
    {
     "data": {
      "text/plain": [
       "b    5667\n",
       "e    1644\n",
       "c     621\n",
       "r     192\n",
       "Name: stalk_root, dtype: int64"
      ]
     },
     "execution_count": 11,
     "metadata": {},
     "output_type": "execute_result"
    }
   ],
   "source": [
    "# bring predicted values back into dataframe\n",
    "mushrooms['stalk_root'] = mushrooms['stalk_root'].fillna(pd.Series(missing_values, index=indices_missing))\n",
    "\n",
    "# check to ensure 'stalk_root' contains no missing values\n",
    "mushrooms.iloc[:,11].value_counts(dropna=False)"
   ]
  },
  {
   "cell_type": "markdown",
   "id": "fce92cdb",
   "metadata": {},
   "source": [
    "## Build ML Models"
   ]
  },
  {
   "cell_type": "markdown",
   "id": "8dc0be69",
   "metadata": {},
   "source": [
    "A RandomForestClassifier as well as a LogisticRegression model are ceated below to predict whether a mushroom is edible or poisonous. The features will be one-hot encoded while the target varible, `edible_poisonous` will be label encoded."
   ]
  },
  {
   "cell_type": "code",
   "execution_count": 12,
   "id": "b0bfc060",
   "metadata": {},
   "outputs": [],
   "source": [
    "from sklearn.model_selection import train_test_split\n",
    "\n",
    "# create training and test data sets\n",
    "X = mushrooms.drop(['edible_poisonous'], axis=1)\n",
    "y = mushrooms['edible_poisonous']\n",
    "\n",
    "# one-hot encode feature variables\n",
    "cat_encoder = OneHotEncoder()\n",
    "cat_encoder.fit(X)\n",
    "X_encode = cat_encoder.transform(X)\n",
    "\n",
    "# label encode response variable\n",
    "lab_encoder = LabelEncoder()\n",
    "lab_encoder.fit(y)\n",
    "y_encode = lab_encoder.transform(y)\n",
    "\n",
    "# split into train and test data\n",
    "X_train, X_test, y_train, y_test = train_test_split(X_encode, y_encode, test_size=0.2, random_state=42)"
   ]
  },
  {
   "cell_type": "code",
   "execution_count": 13,
   "id": "77b57baa",
   "metadata": {},
   "outputs": [
    {
     "name": "stdout",
     "output_type": "stream",
     "text": [
      "386 ms ± 0 ns per loop (mean ± std. dev. of 1 run, 1 loop each)\n"
     ]
    }
   ],
   "source": [
    "from sklearn.ensemble import RandomForestClassifier\n",
    "\n",
    "# instantiate randomforest classifier using default parameters\n",
    "rf_clf = RandomForestClassifier(random_state=42)\n",
    "rf_clf.fit(X_train, y_train)\n",
    "\n",
    "rf_clf_predict = rf_clf.predict(X_test)\n",
    "\n",
    "rf_clf_time = %timeit -n1 -r1 -o rf_clf.fit(X_train, y_train)"
   ]
  },
  {
   "cell_type": "code",
   "execution_count": 14,
   "id": "5cd47d24",
   "metadata": {},
   "outputs": [
    {
     "name": "stdout",
     "output_type": "stream",
     "text": [
      "44.7 ms ± 0 ns per loop (mean ± std. dev. of 1 run, 1 loop each)\n"
     ]
    }
   ],
   "source": [
    "from sklearn.linear_model import LogisticRegression\n",
    "\n",
    "# instantiate logistic regression using default parameters\n",
    "log_reg = LogisticRegression()\n",
    "log_reg.fit(X_train, y_train)\n",
    "\n",
    "log_reg_predict = log_reg.predict(X_test)\n",
    "\n",
    "log_reg_time = %timeit -n1 -r1 -o log_reg.fit(X_train, y_train)"
   ]
  },
  {
   "cell_type": "markdown",
   "id": "b8b77e66",
   "metadata": {},
   "source": [
    "By one-hot encoding the response variable using these settings: drop='first', sparse=False, the encoded values will be the same as if the response variable was label encoded. This is because the response variable is binary. Using one-hot encode, with the settings previously mentioned, will make two new columns but will drop the first column, making only one new column with either '0' or '1' value. This is exactly what label encode outputs."
   ]
  },
  {
   "cell_type": "code",
   "execution_count": 15,
   "id": "21faf4b2",
   "metadata": {},
   "outputs": [
    {
     "name": "stdout",
     "output_type": "stream",
     "text": [
      "---random forest classifier---\n",
      "        Item     Score\n",
      "0   Accuracy  1.000000\n",
      "1  Precision  1.000000\n",
      "2     Recall  1.000000\n",
      "3       Time  0.386029\n",
      "\n",
      "---logistic regression---\n",
      "        Item     Score\n",
      "0   Accuracy  1.000000\n",
      "1  Precision  1.000000\n",
      "2     Recall  1.000000\n",
      "3       Time  0.044658\n"
     ]
    }
   ],
   "source": [
    "from sklearn.metrics import accuracy_score\n",
    "from sklearn.metrics import precision_score\n",
    "from sklearn.metrics import recall_score\n",
    "\n",
    "# create function to calculate accuracy, precision, recall, and model training time\n",
    "def scores(y_true, y_pred, model_train_time):\n",
    "    acc =  accuracy_score(y_true, y_pred)\n",
    "    prec = precision_score(y_true, y_pred, average='macro')\n",
    "    rec = recall_score(y_true, y_pred, average='macro')\n",
    "    time = model_train_time.average\n",
    "    return pd.DataFrame([('Accuracy',acc),('Precision',prec),('Recall',rec),('Time',time)], columns=['Item', 'Score'])\n",
    "\n",
    "rf_clf_scores = scores(y_test, rf_clf_predict, rf_clf_time) \n",
    "log_reg_scores = scores(y_test, log_reg_predict, log_reg_time)\n",
    "\n",
    "print('---random forest classifier---')\n",
    "print(rf_clf_scores)\n",
    "print('')\n",
    "print('---logistic regression---')\n",
    "print(log_reg_scores)"
   ]
  },
  {
   "cell_type": "markdown",
   "id": "0d2d5c53",
   "metadata": {},
   "source": [
    "The models are summarized by accuracy, precision, recall and training time as seen above. Both models show 100% accuracy, precision, and recall. This is slightly not surprising since it was provided that when `habitat`=leaves and `cap_color`=white or `population`=clustered and `cap_color`=white would yield 100% accuracy. The logistic model is nearly 7x faster than the random forest model."
   ]
  },
  {
   "cell_type": "markdown",
   "id": "99da1d69",
   "metadata": {},
   "source": [
    "## Dimensionality Reduction Using PCA"
   ]
  },
  {
   "cell_type": "markdown",
   "id": "bb43c1ac",
   "metadata": {},
   "source": [
    "When a dataset has many categorical attributes, a one-hot encoder is typically used to convert the data from categorical to numberic for ML models. In the case of one-hot encoder (with drop='first') where there are more than 2 classes per attribute, the encoder will increase the number of dimensions in the dataset. This can lead to overfitting due to the large number of dimensions creating a space that increases the risk of having data that is spread out. In comes PCA to save the day. PCA will find the principal components that yield the most variance within the data. PCA will also automatically center the data when using sklearn.\n",
    "\n",
    "For this assignment, PCA with a target variance of 95% was used to find the minimum amount of principal components that explain this variance. The number of dimensions were reduced nearly 65%, from 116 to 41 as seen below."
   ]
  },
  {
   "cell_type": "code",
   "execution_count": 16,
   "id": "79a74edf",
   "metadata": {},
   "outputs": [
    {
     "name": "stdout",
     "output_type": "stream",
     "text": [
      "percentage of reduced dimensions: 64.66 %\n",
      "number of dimensions after PCA: 41\n"
     ]
    }
   ],
   "source": [
    "from sklearn.decomposition import PCA\n",
    "\n",
    "# instantiate PCA class\n",
    "pca = PCA(n_components=0.95)\n",
    "X_train_reduced = pca.fit_transform(X_train.toarray())\n",
    "X_test_reduced = pca.transform(X_test.toarray())\n",
    "\n",
    "# percentage of reduced dimensions\n",
    "print('percentage of reduced dimensions:', round(100 * (1 -(pca.n_components_ / X_train.shape[1])), 2), '%')\n",
    "\n",
    "# number of dimensions\n",
    "print('number of dimensions after PCA:', pca.n_components_)"
   ]
  },
  {
   "cell_type": "code",
   "execution_count": 17,
   "id": "7c0feae0",
   "metadata": {},
   "outputs": [
    {
     "name": "stdout",
     "output_type": "stream",
     "text": [
      "X_train: 116\n",
      "X_train_reduced: 41\n"
     ]
    }
   ],
   "source": [
    "# check number of dimensions before and after pca\n",
    "\n",
    "print('X_train:', X_train.shape[1])\n",
    "print('X_train_reduced:', X_train_reduced.shape[1])"
   ]
  },
  {
   "cell_type": "markdown",
   "id": "05e24245",
   "metadata": {},
   "source": [
    "Retrain the models using the reduced dimensions after using PCA."
   ]
  },
  {
   "cell_type": "code",
   "execution_count": 18,
   "id": "69b5c45f",
   "metadata": {},
   "outputs": [
    {
     "name": "stdout",
     "output_type": "stream",
     "text": [
      "317 ms ± 0 ns per loop (mean ± std. dev. of 1 run, 1 loop each)\n"
     ]
    }
   ],
   "source": [
    "# instantiate randomforest classifier using default parameters\n",
    "rf_clf_pca = RandomForestClassifier(random_state=42)\n",
    "rf_clf_pca.fit(X_train_reduced, y_train)\n",
    "\n",
    "rf_clf_pca_predict = rf_clf_pca.predict(X_test_reduced)\n",
    "\n",
    "rf_clf_pca_time = %timeit -n1 -r1 -o rf_clf.fit(X_train, y_train)"
   ]
  },
  {
   "cell_type": "code",
   "execution_count": 19,
   "id": "bc94d1a0",
   "metadata": {},
   "outputs": [
    {
     "name": "stdout",
     "output_type": "stream",
     "text": [
      "41.1 ms ± 0 ns per loop (mean ± std. dev. of 1 run, 1 loop each)\n"
     ]
    }
   ],
   "source": [
    "# instantiate logistic regression using default parameters\n",
    "log_reg_pca = LogisticRegression()\n",
    "log_reg_pca.fit(X_train_reduced, y_train)\n",
    "\n",
    "log_reg_pca_predict = log_reg_pca.predict(X_test_reduced)\n",
    "\n",
    "log_reg_pca_time = %timeit -n1 -r1 -o log_reg.fit(X_train, y_train)"
   ]
  },
  {
   "cell_type": "code",
   "execution_count": 20,
   "id": "71416a08",
   "metadata": {},
   "outputs": [
    {
     "name": "stdout",
     "output_type": "stream",
     "text": [
      "---random forest classifier---\n",
      "        Item     Score\n",
      "0   Accuracy  1.000000\n",
      "1  Precision  1.000000\n",
      "2     Recall  1.000000\n",
      "3       Time  0.317053\n",
      "\n",
      "---logistic regression---\n",
      "        Item     Score\n",
      "0   Accuracy  0.996308\n",
      "1  Precision  0.996260\n",
      "2     Recall  0.996349\n",
      "3       Time  0.041054\n"
     ]
    }
   ],
   "source": [
    "# check performance scores on test data\n",
    "rf_clf_pca_scores = pd.DataFrame(scores(y_test, rf_clf_pca_predict, rf_clf_pca_time)) \n",
    "log_reg_pca_scores = pd.DataFrame(scores(y_test, log_reg_pca_predict, log_reg_pca_time))\n",
    "\n",
    "print('---random forest classifier---')\n",
    "print(rf_clf_pca_scores,)\n",
    "print('')\n",
    "print('---logistic regression---')\n",
    "print(log_reg_pca_scores)"
   ]
  },
  {
   "cell_type": "markdown",
   "id": "05d12600",
   "metadata": {},
   "source": [
    "Again, the performance of the models are summarized by accuracy, precision, recall and training time. With the reduced dimensions, all measures for the logistic regression model dropped an insignificant amount compared to the full data model."
   ]
  },
  {
   "cell_type": "markdown",
   "id": "24a20c32",
   "metadata": {},
   "source": [
    "## Model Analysis"
   ]
  },
  {
   "cell_type": "code",
   "execution_count": 21,
   "id": "54c5d1f4",
   "metadata": {},
   "outputs": [
    {
     "name": "stdout",
     "output_type": "stream",
     "text": [
      "                Models       Item  Full Data  PCA Reduced\n",
      "0        Random Forest   Accuracy   1.000000     1.000000\n",
      "1        Random Forest  Precision   1.000000     1.000000\n",
      "2        Random Forest     Recall   1.000000     1.000000\n",
      "3        Random Forest       Time   0.386029     0.317053\n",
      "4  Logistic Regression   Accuracy   1.000000     0.996308\n",
      "5  Logistic Regression  Precision   1.000000     0.996260\n",
      "6  Logistic Regression     Recall   1.000000     0.996349\n",
      "7  Logistic Regression       Time   0.044658     0.041054\n"
     ]
    }
   ],
   "source": [
    "# create performance table summary\n",
    "models = ['Random Forest', 'Random Forest', 'Random Forest', 'Random Forest', 'Logistic Regression', 'Logistic Regression', 'Logistic Regression','Logistic Regression']\n",
    "items = ['Accuracy', 'Precision', 'Recall', 'Time', 'Accuracy', 'Precision', 'Recall', 'Time']\n",
    "full_data = pd.concat([rf_clf_scores['Score'], log_reg_scores['Score']])\n",
    "pca_reduced = pd.concat([rf_clf_pca_scores['Score'], log_reg_pca_scores['Score']])\n",
    "\n",
    "summary = pd.DataFrame(list(zip(models, items, full_data, pca_reduced)), columns=['Models','Item','Full Data','PCA Reduced'])\n",
    "print(summary)"
   ]
  },
  {
   "cell_type": "markdown",
   "id": "cf560d08",
   "metadata": {},
   "source": [
    "## Conclusion"
   ]
  },
  {
   "cell_type": "markdown",
   "id": "8ae4111a",
   "metadata": {},
   "source": [
    "In this notebook, a KNN classifer was succesfully used to impute missing values for the `stalk_root` attribute. The features were one-hot encoded and the response variable, `edible_poisonous`, was label encoded prior to training the RandomForest and LogisticRegrssion ML models. PCA was used to reduce the number of dimensions in the training set by nearly 65%, from 116 to 41. It would appear there is some overfitting since there are perfect scores for both models. Note that the default hyperparameters, such as max_depth='None' for RandomForest, of the models are probably the leading cause of such scores. The PCA Reduced scores are insignificantly less than the scores using the Full Data eventhough many of the dimensions were removed. With any data set, it is important to reduce the dimensionality as much as possible, especially with sparse data, to reduce the risk of overfitting.\n"
   ]
  }
 ],
 "metadata": {
  "kernelspec": {
   "display_name": "Python 3 (ipykernel)",
   "language": "python",
   "name": "python3"
  },
  "language_info": {
   "codemirror_mode": {
    "name": "ipython",
    "version": 3
   },
   "file_extension": ".py",
   "mimetype": "text/x-python",
   "name": "python",
   "nbconvert_exporter": "python",
   "pygments_lexer": "ipython3",
   "version": "3.9.13"
  }
 },
 "nbformat": 4,
 "nbformat_minor": 5
}
